{
  "nbformat": 4,
  "nbformat_minor": 0,
  "metadata": {
    "colab": {
      "provenance": [],
      "mount_file_id": "1Bsok-QHPIY_AZeiod39Di2I0mQBZKcTM",
      "authorship_tag": "ABX9TyPpsFtcJFvYM8zIk+dYSY+b",
      "include_colab_link": true
    },
    "kernelspec": {
      "name": "python3",
      "display_name": "Python 3"
    },
    "language_info": {
      "name": "python"
    }
  },
  "cells": [
    {
      "cell_type": "markdown",
      "metadata": {
        "id": "view-in-github",
        "colab_type": "text"
      },
      "source": [
        "<a href=\"https://colab.research.google.com/github/Shabufthasaiffudeen/Datascience-/blob/main/TASKS_7.ipynb\" target=\"_parent\"><img src=\"https://colab.research.google.com/assets/colab-badge.svg\" alt=\"Open In Colab\"/></a>"
      ]
    },
    {
      "cell_type": "markdown",
      "source": [
        "\n",
        "\n"
      ],
      "metadata": {
        "id": "Xt1fHJAeTe3j"
      }
    },
    {
      "cell_type": "markdown",
      "source": [
        "1. Write a Pandas program to select the rows where the score is missing, i.e. is NaN. Sample Python dictionary data and list labels:\n",
        "exam_data = {'name': ['Anastasia', 'Dima', 'Katherine', 'James', 'Emily', 'Michael', 'Matthew',\n",
        "'Laura', 'Kevin', 'Jonas'],\n",
        "'score': [12.5, 9, 16.5, np.nan, 9, 20, 14.5, np.nan, 8, 19],\n",
        "'attempts': [1, 3, 2, 3, 2, 3, 1, 1, 2, 1],\n",
        "'qualify': ['yes', 'no', 'yes', 'no', 'no', 'yes', 'yes', 'no', 'no', 'yes']}\n",
        "labels = ['a', 'b', 'c', 'd', 'e', 'f', 'g', labels = ['a', 'b', 'c', 'd', 'e', 'f', 'g', 'h', 'i', 'j']"
      ],
      "metadata": {
        "id": "3LOgw5w-UGGQ"
      }
    },
    {
      "cell_type": "code",
      "source": [
        "import pandas as pd\n",
        "import numpy as np\n",
        "\n",
        "# Sample data\n",
        "exam_data = {\n",
        "    'name': ['Anastasia', 'Dima', 'Katherine', 'James', 'Emily', 'Michael', 'Matthew', 'Laura', 'Kevin', 'Jonas'],\n",
        "    'score': [12.5, 9, 16.5, np.nan, 9, 20, 14.5, np.nan, 8, 19],\n",
        "    'attempts': [1, 3, 2, 3, 2, 3, 1, 1, 2, 1],\n",
        "    'qualify': ['yes', 'no', 'yes', 'no', 'no', 'yes', 'yes', 'no', 'no', 'yes']\n",
        "}\n",
        "\n",
        "labels = ['a', 'b', 'c', 'd', 'e', 'f', 'g', 'h', 'i', 'j']\n",
        "\n",
        "# Create a DataFrame\n",
        "df = pd.DataFrame(exam_data, index=labels)\n",
        "\n",
        "# Select rows where the score is missing\n",
        "missing_score_rows = df[df['score'].isna()]\n",
        "\n",
        "print(missing_score_rows)"
      ],
      "metadata": {
        "colab": {
          "base_uri": "https://localhost:8080/"
        },
        "id": "g8WYIhssUM3q",
        "outputId": "15cdc869-1059-4283-a7d3-d52441c9054a"
      },
      "execution_count": null,
      "outputs": [
        {
          "output_type": "stream",
          "name": "stdout",
          "text": [
            "    name  score  attempts qualify\n",
            "d  James    NaN         3      no\n",
            "h  Laura    NaN         1      no\n"
          ]
        }
      ]
    },
    {
      "cell_type": "markdown",
      "source": [
        "2. i. Write a NumPy program to convert a list and tuple into arrays"
      ],
      "metadata": {
        "id": "NWmtzAOzUapS"
      }
    },
    {
      "cell_type": "code",
      "source": [
        "import numpy as np\n",
        "\n",
        "# Convert a list to array\n",
        "list_data = [1, 2, 3, 4, 5]\n",
        "array_from_list = np.array(list_data)\n",
        "\n",
        "# Convert a tuple to array\n",
        "tuple_data = (6, 7, 8, 9, 10)\n",
        "array_from_tuple = np.array(tuple_data)\n",
        "\n",
        "print(\"Array from list:\", array_from_list)\n",
        "print(\"Array from tuple:\", array_from_tuple)"
      ],
      "metadata": {
        "colab": {
          "base_uri": "https://localhost:8080/"
        },
        "id": "POXD-Re3VP_F",
        "outputId": "af223faf-6ffb-4af1-9437-8a7b189106fa"
      },
      "execution_count": null,
      "outputs": [
        {
          "output_type": "stream",
          "name": "stdout",
          "text": [
            "Array from list: [1 2 3 4 5]\n",
            "Array from tuple: [ 6  7  8  9 10]\n"
          ]
        }
      ]
    },
    {
      "cell_type": "markdown",
      "source": [
        "2. ii.Write a NumPy program to convert the values of Centigrade degrees into Fahrenheit\n",
        "degrees and vice versa. Values have to be stored into a NumPy array."
      ],
      "metadata": {
        "id": "tEpHWijSVdkg"
      }
    },
    {
      "cell_type": "code",
      "source": [
        "import numpy as np\n",
        "\n",
        "# Function to convert Celsius to Fahrenheit\n",
        "def celsius_to_fahrenheit(celsius_array):\n",
        "    return (celsius_array * 9/5) + 32\n",
        "\n",
        "# Function to convert Fahrenheit to Celsius\n",
        "def fahrenheit_to_celsius(fahrenheit_array):\n",
        "    return (fahrenheit_array - 32) * 5/9\n",
        "\n",
        "# Example values in Centigrade degrees\n",
        "celsius_values = np.array([0, 10, 20, 30, 40])\n",
        "\n",
        "# Convert Centigrade to Fahrenheit\n",
        "fahrenheit_result = celsius_to_fahrenheit(celsius_values)\n",
        "\n",
        "print(\"Centigrade values:\", celsius_values)\n",
        "print(\"Fahrenheit values:\", fahrenheit_result)\n",
        "\n",
        "# Example values in Fahrenheit degrees\n",
        "fahrenheit_values = np.array([32, 50, 68, 86, 104])\n",
        "\n",
        "# Convert Fahrenheit to Centigrade\n",
        "celsius_result = fahrenheit_to_celsius(fahrenheit_values)\n",
        "\n",
        "print(\"Fahrenheit values:\", fahrenheit_values)\n",
        "print(\"Centigrade values:\", celsius_result)"
      ],
      "metadata": {
        "colab": {
          "base_uri": "https://localhost:8080/"
        },
        "id": "uI0sc5J1Vrwt",
        "outputId": "ec88012b-4781-409e-8d8d-fff2d36373f5"
      },
      "execution_count": null,
      "outputs": [
        {
          "output_type": "stream",
          "name": "stdout",
          "text": [
            "Centigrade values: [ 0 10 20 30 40]\n",
            "Fahrenheit values: [ 32.  50.  68.  86. 104.]\n",
            "Fahrenheit values: [ 32  50  68  86 104]\n",
            "Centigrade values: [ 0. 10. 20. 30. 40.]\n"
          ]
        }
      ]
    },
    {
      "cell_type": "markdown",
      "source": [
        "3. i.Using the “concrete strength” dataset, explore relationships between two continuous\n",
        "variables with Scatterplots"
      ],
      "metadata": {
        "id": "Wn1Lg6PxXf4l"
      }
    },
    {
      "cell_type": "code",
      "source": [
        "from google.colab import drive\n",
        "drive.mount('/content/drive')\n",
        "import pandas as pd\n",
        "data=pd.read_csv(\"/content/drive/MyDrive/concrete_data.csv\")\n",
        "print(data)\n"
      ],
      "metadata": {
        "colab": {
          "base_uri": "https://localhost:8080/"
        },
        "id": "BTtfTlHmX3oe",
        "outputId": "e3c6aef6-c5b6-4c59-c2de-0609d28effda"
      },
      "execution_count": null,
      "outputs": [
        {
          "output_type": "stream",
          "name": "stdout",
          "text": [
            "Drive already mounted at /content/drive; to attempt to forcibly remount, call drive.mount(\"/content/drive\", force_remount=True).\n",
            "      cement  blast_furnace_slag  fly_ash  water  superplasticizer  \\\n",
            "0      540.0                 0.0      0.0  162.0               2.5   \n",
            "1      540.0                 0.0      0.0  162.0               2.5   \n",
            "2      332.5               142.5      0.0  228.0               0.0   \n",
            "3      332.5               142.5      0.0  228.0               0.0   \n",
            "4      198.6               132.4      0.0  192.0               0.0   \n",
            "...      ...                 ...      ...    ...               ...   \n",
            "1025   276.4               116.0     90.3  179.6               8.9   \n",
            "1026   322.2                 0.0    115.6  196.0              10.4   \n",
            "1027   148.5               139.4    108.6  192.7               6.1   \n",
            "1028   159.1               186.7      0.0  175.6              11.3   \n",
            "1029   260.9               100.5     78.3  200.6               8.6   \n",
            "\n",
            "      coarse_aggregate  fine_aggregate   age  concrete_compressive_strength  \n",
            "0               1040.0            676.0   28                          79.99  \n",
            "1               1055.0            676.0   28                          61.89  \n",
            "2                932.0            594.0  270                          40.27  \n",
            "3                932.0            594.0  365                          41.05  \n",
            "4                978.4            825.5  360                          44.30  \n",
            "...                ...              ...  ...                            ...  \n",
            "1025             870.1            768.3   28                          44.28  \n",
            "1026             817.9            813.4   28                          31.18  \n",
            "1027             892.4            780.0   28                          23.70  \n",
            "1028             989.6            788.9   28                          32.77  \n",
            "1029             864.5            761.5   28                          32.40  \n",
            "\n",
            "[1030 rows x 9 columns]\n"
          ]
        }
      ]
    },
    {
      "cell_type": "code",
      "source": [
        "import matplotlib.pyplot as plt\n",
        "import seaborn as sns\n",
        "import numpy as np\n",
        "plt.figure(figsize=(8, 6))\n",
        "sns.scatterplot(x=x,y=y)\n",
        "plt.title('Scatterplot of Two Continuous Variables')\n",
        "plt.xlabel('coarse_aggregate')\n",
        "plt.ylabel('fine_aggregate')\n",
        "plt.show()\n"
      ],
      "metadata": {
        "colab": {
          "base_uri": "https://localhost:8080/",
          "height": 564
        },
        "id": "xlHTrGLPY-R0",
        "outputId": "1f9f0402-2015-449c-813f-c7574fbbfef5"
      },
      "execution_count": null,
      "outputs": [
        {
          "output_type": "display_data",
          "data": {
            "text/plain": [
              "<Figure size 800x600 with 1 Axes>"
            ],
            "image/png": "[encoded data removed]"
          },
          "metadata": {}
        }
      ]
    },
    {
      "cell_type": "markdown",
      "source": [
        "3. ii. Draw a Scatter Plot for the following Pandas DataFrame with Team name and Rank\n",
        "Points as x and y axis\n",
        "[\"Australia\", 2500],[\"Bangladesh\", 1000],[\"England\", 2000],[\"India\", 3000],[\"Srilanka\", 1500]"
      ],
      "metadata": {
        "id": "Pbl7CqTmbzYz"
      }
    },
    {
      "cell_type": "code",
      "source": [
        "import pandas as pd\n",
        "import matplotlib.pyplot as plt\n",
        "\n",
        "# Creating a DataFrame with Team name and Rank Points\n",
        "data = {\n",
        "    'Team': [\"Australia\", \"Bangladesh\", \"England\", \"India\", \"Srilanka\"],\n",
        "    'Points': [2500, 1000, 2000, 3000, 1500]\n",
        "}\n",
        "\n",
        "df = pd.DataFrame(data)\n",
        "\n",
        "# Create a scatter plot\n",
        "plt.figure(figsize=(8, 6))\n",
        "plt.scatter(df['Points'], df.index, color='blue', marker='o')\n",
        "\n",
        "# Add labels and title\n",
        "plt.title('Scatter Plot of Rank Points for Cricket Teams')\n",
        "plt.xlabel('Points')\n",
        "plt.ylabel('Team Index')\n",
        "\n",
        "# Add team names as annotations\n",
        "for i, team in enumerate(df['Team']):\n",
        "    plt.annotate(team, (df['Points'][i], df.index[i]), textcoords=\"offset points\", xytext=(5,0), ha='left')\n",
        "\n",
        "plt.show()\n"
      ],
      "metadata": {
        "colab": {
          "base_uri": "https://localhost:8080/",
          "height": 564
        },
        "id": "RZPn9x1XcEva",
        "outputId": "c9f5aca3-6249-437e-808a-5ef5efda54b0"
      },
      "execution_count": null,
      "outputs": [
        {
          "output_type": "display_data",
          "data": {
            "text/plain": [
              "<Figure size 800x600 with 1 Axes>"
            ],
            "image/png": "[encoded data removed]"
          },
          "metadata": {}
        }
      ]
    },
    {
      "cell_type": "markdown",
      "source": [
        " 4. Write a Pandas program to create and display a DataFrame from a specified dictionary data which\n",
        "has the index labels. Sample Python dictionary data and list labels:\n",
        "exam_data = {'name': ['Anastasia', 'Dima', 'Katherine', 'James', 'Emily', 'Michael', 'Matthew',\n",
        "'Laura', 'Kevin', 'Jonas'],\n",
        "'score': [12.5, 9, 16.5, np.nan, 9, 20, 14.5, np.nan, 8, 19],\n",
        "'attempts': [1, 3, 2, 3, 2, 3, 1, 1, 2, 1],\n",
        "'qualify': ['yes', 'no', 'yes', 'no', 'no', 'yes', 'yes', 'no', 'no', 'yes']}\n",
        "labels = ['a', 'b', 'c', 'd', 'e', 'f', 'g', 'h', 'i', 'j']"
      ],
      "metadata": {
        "id": "Tw5r6pFydG-L"
      }
    },
    {
      "cell_type": "code",
      "source": [
        "import pandas as pd\n",
        "import numpy as np\n",
        "\n",
        "# Sample dictionary data\n",
        "exam_data = {\n",
        "    'name': ['Anastasia', 'Dima', 'Katherine', 'James', 'Emily', 'Michael', 'Matthew', 'Laura', 'Kevin', 'Jonas'],\n",
        "    'score': [12.5, 9, 16.5, np.nan, 9, 20, 14.5, np.nan, 8, 19],\n",
        "    'attempts': [1, 3, 2, 3, 2, 3, 1, 1, 2, 1],\n",
        "    'qualify': ['yes', 'no', 'yes', 'no', 'no', 'yes', 'yes', 'no', 'no', 'yes']\n",
        "}\n",
        "\n",
        "# Index labels\n",
        "labels = ['a', 'b', 'c', 'd', 'e', 'f', 'g', 'h', 'i', 'j']\n",
        "\n",
        "# Create DataFrame\n",
        "df = pd.DataFrame(exam_data, index=labels)\n",
        "\n",
        "# Display the DataFrame\n",
        "print(df)\n"
      ],
      "metadata": {
        "colab": {
          "base_uri": "https://localhost:8080/"
        },
        "id": "nd1Mhp63dR06",
        "outputId": "5d3fc9c7-c35f-48b3-b815-32f81052ad4b"
      },
      "execution_count": null,
      "outputs": [
        {
          "output_type": "stream",
          "name": "stdout",
          "text": [
            "        name  score  attempts qualify\n",
            "a  Anastasia   12.5         1     yes\n",
            "b       Dima    9.0         3      no\n",
            "c  Katherine   16.5         2     yes\n",
            "d      James    NaN         3      no\n",
            "e      Emily    9.0         2      no\n",
            "f    Michael   20.0         3     yes\n",
            "g    Matthew   14.5         1     yes\n",
            "h      Laura    NaN         1      no\n",
            "i      Kevin    8.0         2      no\n",
            "j      Jonas   19.0         1     yes\n"
          ]
        }
      ]
    },
    {
      "cell_type": "code",
      "source": [
        "5. Write a Pandas program to count the number of rows and columns of a DataFrame. Sample Python dictionary data and list labels:\n",
        "exam_data = {'name': ['Anastasia', 'Dima', 'Katherine', 'James', 'Emily', 'Michael', 'Matthew',\n",
        "'Laura', 'Kevin', 'Jonas'],\n",
        "'score': [12.5, 9, 16.5, np.nan, 9, 20, 14.5, np.nan, 8, 19],\n",
        "'attempts': [1, 3, 2, 3, 2, 3, 1, 1, 2, 1],\n",
        "'qualify': ['yes', 'no', 'yes', 'no', 'no', 'yes', 'yes', 'no', 'no', 'yes']}\n",
        "labels = ['a', 'b', 'c', 'd', 'e', 'f', 'g', 'h', 'i', 'j']"
      ],
      "metadata": {
        "id": "TzfeNt_BeH_T"
      },
      "execution_count": null,
      "outputs": []
    },
    {
      "cell_type": "code",
      "source": [
        "import pandas as pd\n",
        "import numpy as np\n",
        "\n",
        "# Sample dictionary data\n",
        "exam_data = {\n",
        "    'name': ['Anastasia', 'Dima', 'Katherine', 'James', 'Emily', 'Michael', 'Matthew', 'Laura', 'Kevin', 'Jonas'],\n",
        "    'score': [12.5, 9, 16.5, np.nan, 9, 20, 14.5, np.nan, 8, 19],\n",
        "    'attempts': [1, 3, 2, 3, 2, 3, 1, 1, 2, 1],\n",
        "    'qualify': ['yes', 'no', 'yes', 'no', 'no', 'yes', 'yes', 'no', 'no', 'yes']\n",
        "}\n",
        "\n",
        "# Index labels\n",
        "labels = ['a', 'b', 'c', 'd', 'e', 'f', 'g', 'h', 'i', 'j']\n",
        "\n",
        "# Create DataFrame\n",
        "df = pd.DataFrame(exam_data, index=labels)\n",
        "\n",
        "# Count the number of rows and columns\n",
        "num_rows = df.shape[0]\n",
        "num_columns = df.shape[1]\n",
        "\n",
        "# Display the result\n",
        "print(f\"Number of Rows: {num_rows}\")\n",
        "print(f\"Number of Columns: {num_columns}\")\n"
      ],
      "metadata": {
        "colab": {
          "base_uri": "https://localhost:8080/"
        },
        "id": "KTIBZPvyeObC",
        "outputId": "050bfcda-ec88-4e37-f354-b0990fe13d6d"
      },
      "execution_count": null,
      "outputs": [
        {
          "output_type": "stream",
          "name": "stdout",
          "text": [
            "Number of Rows: 10\n",
            "Number of Columns: 4\n"
          ]
        }
      ]
    },
    {
      "cell_type": "markdown",
      "source": [
        "6. Perform Multiple Regression analysis on your own dataset ( For example, Car dataset\n",
        "with information Company Name, Model, Volume, Weight, CO2) with more than one\n",
        "independent value to predict a value based on two or more variables."
      ],
      "metadata": {
        "id": "YIS6y9fEetgS"
      }
    },
    {
      "cell_type": "code",
      "source": [
        "from google.colab import drive\n",
        "drive.mount('/content/drive')\n",
        "import pandas as pd\n",
        "df=pd.read_csv(\"/content/drive/MyDrive/data.csv\")\n",
        "print(df)"
      ],
      "metadata": {
        "colab": {
          "base_uri": "https://localhost:8080/"
        },
        "id": "YuADeQ3eh8J4",
        "outputId": "da2fb0e5-ac69-4dc3-b3fd-0d5887038d94"
      },
      "execution_count": null,
      "outputs": [
        {
          "output_type": "stream",
          "name": "stdout",
          "text": [
            "Drive already mounted at /content/drive; to attempt to forcibly remount, call drive.mount(\"/content/drive\", force_remount=True).\n",
            "           Car       Model  Volume  Weight  CO2\n",
            "0       Toyoty        Aygo    1000     790   99\n",
            "1   Mitsubishi  Space Star    1200    1160   95\n",
            "2        Skoda      Citigo    1000     929   95\n",
            "3         Fiat         500     900     865   90\n",
            "4         Mini      Cooper    1500    1140  105\n",
            "5           VW         Up!    1000     929  105\n",
            "6        Skoda       Fabia    1400    1109   90\n",
            "7     Mercedes     A-Class    1500    1365   92\n",
            "8         Ford      Fiesta    1500    1112   98\n",
            "9         Audi          A1    1600    1150   99\n",
            "10     Hyundai         I20    1100     980   99\n",
            "11      Suzuki       Swift    1300     990  101\n",
            "12        Ford      Fiesta    1000    1112   99\n",
            "13       Honda       Civic    1600    1252   94\n",
            "14      Hundai         I30    1600    1326   97\n",
            "15        Opel       Astra    1600    1330   97\n",
            "16         BMW           1    1600    1365   99\n",
            "17       Mazda           3    2200    1280  104\n",
            "18       Skoda       Rapid    1600    1119  104\n",
            "19        Ford       Focus    2000    1328  105\n",
            "20        Ford      Mondeo    1600    1584   94\n",
            "21        Opel    Insignia    2000    1428   99\n",
            "22    Mercedes     C-Class    2100    1365   99\n",
            "23       Skoda     Octavia    1600    1415   99\n",
            "24       Volvo         S60    2000    1415   99\n",
            "25    Mercedes         CLA    1500    1465  102\n",
            "26        Audi          A4    2000    1490  104\n",
            "27        Audi          A6    2000    1725  114\n",
            "28       Volvo         V70    1600    1523  109\n",
            "29         BMW           5    2000    1705  114\n",
            "30    Mercedes     E-Class    2100    1605  115\n",
            "31       Volvo        XC70    2000    1746  117\n",
            "32        Ford       B-Max    1600    1235  104\n",
            "33         BMW         216    1600    1390  108\n",
            "34        Opel      Zafira    1600    1405  109\n",
            "35    Mercedes         SLK    2500    1395  120\n"
          ]
        }
      ]
    },
    {
      "cell_type": "code",
      "source": [
        "import pandas as pd\n",
        "import statsmodels.api as sm\n",
        "\n",
        "# Assuming you have a dataset named car_data\n",
        "# Read your dataset\n",
        "# car_data = pd.read_csv('your_dataset.csv')\n",
        "\n",
        "# Select independent variables (features)\n",
        "X = df[['Volume', 'Weight']]\n",
        "\n",
        "# Add a constant term to the independent variables matrix\n",
        "X = sm.add_constant(X)\n",
        "\n",
        "# Dependent variable\n",
        "y = df['CO2']\n",
        "\n",
        "# Fit the regression model\n",
        "model = sm.OLS(y, X).fit()\n",
        "\n",
        "# Print the regression summary\n",
        "print(model.summary())\n"
      ],
      "metadata": {
        "colab": {
          "base_uri": "https://localhost:8080/"
        },
        "id": "0ctIKkGviWmQ",
        "outputId": "c96d1f43-1327-4f57-b9bf-72ed2f095549"
      },
      "execution_count": null,
      "outputs": [
        {
          "output_type": "stream",
          "name": "stdout",
          "text": [
            "                            OLS Regression Results                            \n",
            "==============================================================================\n",
            "Dep. Variable:                    CO2   R-squared:                       0.377\n",
            "Model:                            OLS   Adj. R-squared:                  0.339\n",
            "Method:                 Least Squares   F-statistic:                     9.966\n",
            "Date:                Wed, 03 Jan 2024   Prob (F-statistic):           0.000411\n",
            "Time:                        09:47:24   Log-Likelihood:                -114.39\n",
            "No. Observations:                  36   AIC:                             234.8\n",
            "Df Residuals:                      33   BIC:                             239.5\n",
            "Df Model:                           2                                         \n",
            "Covariance Type:            nonrobust                                         \n",
            "==============================================================================\n",
            "                 coef    std err          t      P>|t|      [0.025      0.975]\n",
            "------------------------------------------------------------------------------\n",
            "const         79.6947      5.564     14.322      0.000      68.374      91.016\n",
            "Volume         0.0078      0.004      1.948      0.060      -0.000       0.016\n",
            "Weight         0.0076      0.006      1.173      0.249      -0.006       0.021\n",
            "==============================================================================\n",
            "Omnibus:                        4.957   Durbin-Watson:                   0.944\n",
            "Prob(Omnibus):                  0.084   Jarque-Bera (JB):                1.836\n",
            "Skew:                          -0.025   Prob(JB):                        0.399\n",
            "Kurtosis:                       1.895   Cond. No.                     1.16e+04\n",
            "==============================================================================\n",
            "\n",
            "Notes:\n",
            "[1] Standard Errors assume that the covariance matrix of the errors is correctly specified.\n",
            "[2] The condition number is large, 1.16e+04. This might indicate that there are\n",
            "strong multicollinearity or other numerical problems.\n"
          ]
        }
      ]
    },
    {
      "cell_type": "code",
      "source": [
        "from sklearn.linear_model import LinearRegression\n",
        "from sklearn.model_selection import train_test_split\n",
        "from sklearn import metrics\n",
        "\n",
        "# Assuming you have a dataset named car_data\n",
        "# Read your dataset\n",
        "# car_data = pd.read_csv('your_dataset.csv')\n",
        "\n",
        "# Select independent variables (features)\n",
        "X = df[['Volume', 'Weight']]\n",
        "\n",
        "# Dependent variable\n",
        "y = df['CO2']\n",
        "\n",
        "# Split the data into training and testing sets\n",
        "X_train, X_test, y_train, y_test = train_test_split(X, y, test_size=0.2, random_state=42)\n",
        "\n",
        "# Initialize and fit the model\n",
        "model = LinearRegression()\n",
        "model.fit(X_train, y_train)\n",
        "\n",
        "# Make predictions on the test set\n",
        "y_pred = model.predict(X_test)\n",
        "\n",
        "# Evaluate the model\n",
        "print('Mean Absolute Error:', metrics.mean_absolute_error(y_test, y_pred))\n",
        "print('Mean Squared Error:', metrics.mean_squared_error(y_test, y_pred))\n",
        "print('Root Mean Squared Error:', np.sqrt(metrics.mean_squared_error(y_test, y_pred)))\n"
      ],
      "metadata": {
        "colab": {
          "base_uri": "https://localhost:8080/"
        },
        "id": "s5NICKaCjE3o",
        "outputId": "dbc6e04a-c280-4e32-bcec-36da73ed3a28"
      },
      "execution_count": null,
      "outputs": [
        {
          "output_type": "stream",
          "name": "stdout",
          "text": [
            "Mean Absolute Error: 6.335639624274503\n",
            "Mean Squared Error: 58.07928583657771\n",
            "Root Mean Squared Error: 7.620976698335832\n"
          ]
        }
      ]
    }
  ]
}