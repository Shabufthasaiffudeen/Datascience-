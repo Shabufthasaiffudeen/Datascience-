{
  "nbformat": 4,
  "nbformat_minor": 0,
  "metadata": {
    "colab": {
      "provenance": [],
      "authorship_tag": "ABX9TyMf4VRpS/plcWj7t0FD3zfP",
      "include_colab_link": true
    },
    "kernelspec": {
      "name": "python3",
      "display_name": "Python 3"
    },
    "language_info": {
      "name": "python"
    }
  },
  "cells": [
    {
      "cell_type": "markdown",
      "metadata": {
        "id": "view-in-github",
        "colab_type": "text"
      },
      "source": [
        "<a href=\"https://colab.research.google.com/github/Shabufthasaiffudeen/Datascience-/blob/main/Numpy.ipynb\" target=\"_parent\"><img src=\"https://colab.research.google.com/assets/colab-badge.svg\" alt=\"Open In Colab\"/></a>"
      ]
    },
    {
      "cell_type": "code",
      "execution_count": null,
      "metadata": {
        "colab": {
          "base_uri": "https://localhost:8080/"
        },
        "id": "VdID2_Id-oQs",
        "outputId": "1cbb611b-1ef0-4f74-a92f-d7ba724c45f0"
      },
      "outputs": [
        {
          "output_type": "stream",
          "name": "stdout",
          "text": [
            "[2 3]\n",
            "[1 2 3 6 7]\n"
          ]
        }
      ],
      "source": [
        "#array function\n",
        "import numpy\n",
        "a=numpy.array([1,2,3,7,6])\n",
        "b=a[1:3]\n",
        "print(b)\n",
        "s=numpy.sort(a)\n",
        "print(s)"
      ]
    },
    {
      "cell_type": "code",
      "source": [
        "import numpy as n\n",
        "n.zeros(9) #array of zeros\n",
        "n.ones(7) #array of ones\n",
        "n.linspace(1,10,5)"
      ],
      "metadata": {
        "colab": {
          "base_uri": "https://localhost:8080/"
        },
        "id": "BexufI_lyrAe",
        "outputId": "68a212ec-176a-4b4e-ab0f-f674ef648bed"
      },
      "execution_count": null,
      "outputs": [
        {
          "output_type": "execute_result",
          "data": {
            "text/plain": [
              "array([ 1.  ,  3.25,  5.5 ,  7.75, 10.  ])"
            ]
          },
          "metadata": {},
          "execution_count": 1
        }
      ]
    },
    {
      "cell_type": "code",
      "source": [
        "import numpy as np\n",
        "dict = {1: 'a',\n",
        "        2: 'b',\n",
        "        3: 'c'}\n",
        "result = dict.items()\n",
        "#data = list(result)\n",
        "\n",
        "#k = np.array(data)\n",
        "print(result)"
      ],
      "metadata": {
        "colab": {
          "base_uri": "https://localhost:8080/"
        },
        "id": "dPmc3wU7chwT",
        "outputId": "46f8400d-11ce-435e-9a59-752745e8d88c"
      },
      "execution_count": null,
      "outputs": [
        {
          "output_type": "stream",
          "name": "stdout",
          "text": [
            "dict_items([(1, 'a'), (2, 'b'), (3, 'c')])\n"
          ]
        }
      ]
    },
    {
      "cell_type": "code",
      "source": [
        "import matplotlib.pyplot as e\n",
        "import numpy as np\n",
        "b=np.array([3,4,5,6,7])\n",
        "e.plot(b)\n",
        "#matplot functions"
      ],
      "metadata": {
        "colab": {
          "base_uri": "https://localhost:8080/",
          "height": 447
        },
        "id": "jwJkFCNleuA3",
        "outputId": "165047df-5980-4345-977f-66507ffdbdec"
      },
      "execution_count": null,
      "outputs": [
        {
          "output_type": "execute_result",
          "data": {
            "text/plain": [
              "[<matplotlib.lines.Line2D at 0x7c074a735ed0>]"
            ]
          },
          "metadata": {},
          "execution_count": 17
        },
        {
          "output_type": "display_data",
          "data": {
            "text/plain": [
              "<Figure size 640x480 with 1 Axes>"
            ],
            "image/png": "[encoded data removed]"
          },
          "metadata": {}
        }
      ]
    },
    {
      "cell_type": "code",
      "source": [
        "\n",
        "import numpy as np\n",
        "a = np.array([[1, 2, 3, 4], [5, 6, 7, 8], [9, 10, 11, 12]])\n",
        "print(a[2])\n",
        "b= np.array([12, 7, 52, 0, 5, 8, 3, 1])\n",
        "c=np.array([3,6,8,10,12])\n",
        "print(np.sort(b)) #sorting\n",
        "print(np.concatenate((b, c))) #adding\n",
        "print(b.size ) #no of elements\n",
        "print(a.shape ) #shape\n",
        "print(b[b < 10])\n",
        "print(np.flip(c))\n",
        "e= np.array([[5, 6], [3, 4],[7, 6], [8, 9]])\n",
        "f= np.array([[10, 20], [11, 12],[18, 19], [14, 15]])\n",
        "print(e + f)"
      ],
      "metadata": {
        "id": "QO1tJZ6IhJIP"
      },
      "execution_count": null,
      "outputs": []
    },
    {
      "cell_type": "code",
      "source": [
        "#aggregate_funct\n",
        "import numpy as np\n",
        "a=np.array([3,4,5,6])\n",
        "print(np.sum(a))\n",
        "print(np.min(a))\n",
        "print(np.max(a))\n",
        "print(np.cumsum(a))\n",
        "print(np.mean(a))\n",
        "print(np.median(a))\n",
        "print(np.corrcoef(a))\n",
        "print(np.std(a))"
      ],
      "metadata": {
        "id": "JUZWokXtJUwF"
      },
      "execution_count": null,
      "outputs": []
    },
    {
      "cell_type": "code",
      "source": [
        "import numpy\n",
        "Z=numpy.pi\n",
        "print(Z)\n",
        "s=numpy.sqrt(4)\n",
        "print(s)\n",
        "\n",
        "numpy.multiply(6,6)"
      ],
      "metadata": {
        "id": "2WzW9-FvL87B"
      },
      "execution_count": null,
      "outputs": []
    },
    {
      "cell_type": "code",
      "source": [
        "\n",
        "import numpy as d\n",
        "a=d.array([1,2,3])\n",
        "print(d.ravel(a))\n",
        "print(d.transpose(a))\n",
        "print(d.append(2,3))\n",
        "print(d.resize(2,5))\n",
        "print(d.insert(a,1,6))\n",
        "print(d.reshape(3,-2))\n",
        "print(d.delete(a,[1]))"
      ],
      "metadata": {
        "colab": {
          "base_uri": "https://localhost:8080/"
        },
        "id": "jA5JO6-1M9xI",
        "outputId": "f88e9c6f-437a-4088-8c87-8b88da7eb7ce"
      },
      "execution_count": null,
      "outputs": [
        {
          "output_type": "stream",
          "name": "stdout",
          "text": [
            "[1 2 3]\n",
            "[1 2 3]\n",
            "[2 3]\n",
            "[2 2 2 2 2]\n",
            "[1 6 2 3]\n",
            "[3]\n",
            "[1 3]\n"
          ]
        }
      ]
    },
    {
      "cell_type": "code",
      "source": [
        "import numpy as np\n",
        "a=np.array([1,2,3])\n",
        "b=np.array([5,6,7])\n",
        "print(np.vstack((a,b)))\n",
        "print(np.hstack((a,b)))\n",
        "print(np.r_[a,b])"
      ],
      "metadata": {
        "colab": {
          "base_uri": "https://localhost:8080/"
        },
        "id": "KVDIJ72URPOc",
        "outputId": "e02ea9b1-8f2c-42cf-a2d9-0e180468d653"
      },
      "execution_count": null,
      "outputs": [
        {
          "output_type": "stream",
          "name": "stdout",
          "text": [
            "[[1 2 3]\n",
            " [5 6 7]]\n",
            "[1 2 3 5 6 7]\n",
            "[1 2 3 5 6 7]\n"
          ]
        }
      ]
    },
    {
      "cell_type": "code",
      "source": [
        "import numpy as np\n",
        "c=np.array([[[1,2,3],[4,5,6]],[[3,2,1],[4,5,7]]])\n",
        "print(c[1,1])\n",
        "a=np.array([[1,2,3],[4,5,6],[3,2,1],[4,5,7]])\n",
        "print(a[1,1])"
      ],
      "metadata": {
        "colab": {
          "base_uri": "https://localhost:8080/"
        },
        "id": "czZAuweDdNWi",
        "outputId": "5633825b-72c8-41d4-c05b-e9993e3d6a3a"
      },
      "execution_count": null,
      "outputs": [
        {
          "output_type": "stream",
          "name": "stdout",
          "text": [
            "[4 5 7]\n",
            "5\n"
          ]
        }
      ]
    },
    {
      "cell_type": "code",
      "source": [
        "# Python program to demonstrate\n",
        "# indexing in numpy array\n",
        "import numpy as np\n",
        "\n",
        "# Initial Array\n",
        "arr = np.array([[-1, 2, 0, 4],\n",
        "                [4, -0.5, 6, 0],\n",
        "                [2.6, 0, 7, 8],\n",
        "                [3, -7, 4, 2.0]])\n",
        "print(\"Initial Array: \")\n",
        "print(arr)\n",
        "\n",
        "# Printing a range of Array\n",
        "# with the use of slicing method\n",
        "sliced_arr = arr[:2, ::2]\n",
        "print (\"Array with first 2 rows and\"\n",
        "    \" alternate columns(0 and 2):\\n\", sliced_arr)\n",
        "\n",
        "# Printing elements at\n",
        "# specific Indices\n",
        "Index_arr = arr[[1, 1, 0, 3],\n",
        "                [3, 2, 1, 0]]\n",
        "print (\"\\nElements at indices (1, 3), \"\n",
        "    \"(1, 2), (0, 1), (3, 0):\\n\", Index_arr)"
      ],
      "metadata": {
        "colab": {
          "base_uri": "https://localhost:8080/"
        },
        "id": "o1qvQJhudyPi",
        "outputId": "b599d716-9b02-48c8-b3f8-0023b89ac46c"
      },
      "execution_count": null,
      "outputs": [
        {
          "output_type": "stream",
          "name": "stdout",
          "text": [
            "Initial Array: \n",
            "[[-1.   2.   0.   4. ]\n",
            " [ 4.  -0.5  6.   0. ]\n",
            " [ 2.6  0.   7.   8. ]\n",
            " [ 3.  -7.   4.   2. ]]\n",
            "Array with first 2 rows and alternate columns(0 and 2):\n",
            " [[-1.  0.]\n",
            " [ 4.  6.]]\n",
            "\n",
            "Elements at indices (1, 3), (1, 2), (0, 1), (3, 0):\n",
            " [0. 6. 2. 3.]\n"
          ]
        }
      ]
    },
    {
      "cell_type": "code",
      "source": [
        "from numpy import random\n",
        "import matplotlib.pyplot as plt\n",
        "import seaborn as sns\n",
        "\n",
        "sns.distplot(random.binomial(n=10, p=0.5, size=1000), hist=True, kde=False)\n",
        "\n",
        "plt.show()"
      ],
      "metadata": {
        "id": "_kNkyYZrd57z",
        "colab": {
          "base_uri": "https://localhost:8080/",
          "height": 431
        },
        "outputId": "101595c4-f8b4-4d58-895c-3d41d465c420"
      },
      "execution_count": null,
      "outputs": [
        {
          "output_type": "stream",
          "name": "stderr",
          "text": [
            "<ipython-input-3-c6d35445dc7e>:5: UserWarning: \n",
            "\n",
            "`distplot` is a deprecated function and will be removed in seaborn v0.14.0.\n",
            "\n",
            "Please adapt your code to use either `displot` (a figure-level function with\n",
            "similar flexibility) or `histplot` (an axes-level function for histograms).\n",
            "\n",
            "For a guide to updating your code to use the new functions, please see\n",
            "https://gist.github.com/mwaskom/de44147ed2974457ad6372750bbe5751\n",
            "\n",
            "  sns.distplot(random.binomial(n=10, p=0.5, size=1000), hist=True, kde=False)\n"
          ]
        },
        {
          "output_type": "display_data",
          "data": {
            "text/plain": [
              "<Figure size 640x480 with 1 Axes>"
            ],
            "image/png": "[encoded data removed]"
          },
          "metadata": {}
        }
      ]
    },
    {
      "cell_type": "code",
      "source": [
        "from numpy import random\n",
        "\n",
        "x = random.binomial(n=10, p=0.5, size=10)\n",
        "\n",
        "print(x)"
      ],
      "metadata": {
        "colab": {
          "base_uri": "https://localhost:8080/"
        },
        "id": "ljpt1XsUiu5U",
        "outputId": "5f848fc1-813b-4158-ecc4-0432d296b060"
      },
      "execution_count": null,
      "outputs": [
        {
          "output_type": "stream",
          "name": "stdout",
          "text": [
            "[5 8 3 6 5 7 7 3 4 6]\n"
          ]
        }
      ]
    },
    {
      "cell_type": "code",
      "source": [
        "import numpy as np\n",
        "\n",
        "arr = np.array([1, 2, 3, 4, 5, 6, 7])\n",
        "\n",
        "filter_arr = arr % 2 == 0\n",
        "\n",
        "newarr = arr[filter_arr]\n",
        "\n",
        "print(filter_arr)\n",
        "print(newarr)"
      ],
      "metadata": {
        "colab": {
          "base_uri": "https://localhost:8080/"
        },
        "id": "gqkmC42Wi0c6",
        "outputId": "74596596-23d9-4861-ee5f-a3440a6b6b5c"
      },
      "execution_count": null,
      "outputs": [
        {
          "output_type": "stream",
          "name": "stdout",
          "text": [
            "[False  True False  True False  True False]\n",
            "[2 4 6]\n"
          ]
        }
      ]
    },
    {
      "cell_type": "code",
      "source": [
        "a=np.array([1,3,4])\n",
        "print(a)     #Create an array\n",
        "print(\"--------------------------------\")\n",
        "print(np.zeros(a))    #create an array of zeros\n",
        "print(\"---------------------------------\")\n",
        "print(np.ones(a))      #create an array of ones\n",
        "print(\"---------------------------------\")\n",
        "print(np.arange(5))     #create an array with a reange of values\n",
        "print(\"---------------------------------------\")\n",
        "print(np.arange(2,10,2))\n",
        "print(\"------------------------------------------\")\n",
        "#Create an array with evenly spaced values\n",
        "arr1 = np.linspace(0, 1)\n",
        "print(\"Example 1:\", arr1)\n",
        "\n",
        "arr2 = np.linspace(0, 1, num=10)\n",
        "print(\"Example 2:\", arr2)\n",
        "\n",
        "arr3 = np.linspace(0, 1, num=5, endpoint=False)\n",
        "print(\"Example 3:\", arr3)\n",
        "\n",
        "arr4, step_size = np.linspace(0, 1, num=5, retstep=True)\n",
        "print(\"Example 4 - Array:\", arr4)\n",
        "print(\"Example 4 - Step Size:\", step_size)\n",
        "print(\"------------------------------------------------\")\n",
        "\n",
        "# Example 1: Creating a 3x3 identity matrix\n",
        "identity_matrix_3x3 = np.eye(3)\n",
        "print(\"Example 1:\")\n",
        "print(identity_matrix_3x3)\n",
        "\n",
        "# Example 2: Creating a 4x5 identity matrix\n",
        "identity_matrix_4x5 = np.eye(4, 5)\n",
        "print(\"\\nExample 2:\")\n",
        "print(identity_matrix_4x5)\n",
        "\n",
        "# Example 3: Creating a 3x3 identity matrix with ones on the kth diagonal\n",
        "identity_matrix_k_diagonal = np.eye(3, k=1)\n",
        "print(\"\\nExample 3:\")\n",
        "print(identity_matrix_k_diagonal)"
      ],
      "metadata": {
        "colab": {
          "base_uri": "https://localhost:8080/"
        },
        "id": "ezvfPRyri5aW",
        "outputId": "01a609fa-7230-4e32-d1e3-e6f9211acf86"
      },
      "execution_count": null,
      "outputs": [
        {
          "output_type": "stream",
          "name": "stdout",
          "text": [
            "[1 3 4]\n",
            "--------------------------------\n",
            "[[[0. 0. 0. 0.]\n",
            "  [0. 0. 0. 0.]\n",
            "  [0. 0. 0. 0.]]]\n",
            "---------------------------------\n",
            "[[[1. 1. 1. 1.]\n",
            "  [1. 1. 1. 1.]\n",
            "  [1. 1. 1. 1.]]]\n",
            "---------------------------------\n",
            "[0 1 2 3 4]\n",
            "---------------------------------------\n",
            "[2 4 6 8]\n",
            "------------------------------------------\n",
            "Example 1: [0.         0.02040816 0.04081633 0.06122449 0.08163265 0.10204082\n",
            " 0.12244898 0.14285714 0.16326531 0.18367347 0.20408163 0.2244898\n",
            " 0.24489796 0.26530612 0.28571429 0.30612245 0.32653061 0.34693878\n",
            " 0.36734694 0.3877551  0.40816327 0.42857143 0.44897959 0.46938776\n",
            " 0.48979592 0.51020408 0.53061224 0.55102041 0.57142857 0.59183673\n",
            " 0.6122449  0.63265306 0.65306122 0.67346939 0.69387755 0.71428571\n",
            " 0.73469388 0.75510204 0.7755102  0.79591837 0.81632653 0.83673469\n",
            " 0.85714286 0.87755102 0.89795918 0.91836735 0.93877551 0.95918367\n",
            " 0.97959184 1.        ]\n",
            "Example 2: [0.         0.11111111 0.22222222 0.33333333 0.44444444 0.55555556\n",
            " 0.66666667 0.77777778 0.88888889 1.        ]\n",
            "Example 3: [0.  0.2 0.4 0.6 0.8]\n",
            "Example 4 - Array: [0.   0.25 0.5  0.75 1.  ]\n",
            "Example 4 - Step Size: 0.25\n",
            "------------------------------------------------\n",
            "Example 1:\n",
            "[[1. 0. 0.]\n",
            " [0. 1. 0.]\n",
            " [0. 0. 1.]]\n",
            "\n",
            "Example 2:\n",
            "[[1. 0. 0. 0. 0.]\n",
            " [0. 1. 0. 0. 0.]\n",
            " [0. 0. 1. 0. 0.]\n",
            " [0. 0. 0. 1. 0.]]\n",
            "\n",
            "Example 3:\n",
            "[[0. 1. 0.]\n",
            " [0. 0. 1.]\n",
            " [0. 0. 0.]]\n"
          ]
        }
      ]
    },
    {
      "cell_type": "code",
      "source": [
        "# Python program explaining\n",
        "# invert() function\n",
        "\n",
        "import numpy as geek\n",
        "in_num = 10\n",
        "print (\"Input  number : \", in_num)\n",
        "\n",
        "out_num = geek.invert(in_num)\n",
        "print (\"inversion of 10 : \", out_num)"
      ],
      "metadata": {
        "colab": {
          "base_uri": "https://localhost:8080/"
        },
        "id": "tjvbMvyui_54",
        "outputId": "83f4a288-68dc-49c9-94cd-f3c122f44087"
      },
      "execution_count": null,
      "outputs": [
        {
          "output_type": "stream",
          "name": "stdout",
          "text": [
            "Input  number :  10\n",
            "inversion of 10 :  -11\n"
          ]
        }
      ]
    },
    {
      "cell_type": "code",
      "source": [
        "from numpy import random\n",
        "\n",
        "x = random.poisson(lam=2, size=10)\n",
        "\n",
        "print(x)"
      ],
      "metadata": {
        "colab": {
          "base_uri": "https://localhost:8080/"
        },
        "id": "u3_JuAikjGs-",
        "outputId": "de9be8d1-fb27-4841-fe8a-f49f605bce39"
      },
      "execution_count": null,
      "outputs": [
        {
          "output_type": "stream",
          "name": "stdout",
          "text": [
            "[3 3 2 3 3 3 2 1 4 1]\n"
          ]
        }
      ]
    },
    {
      "cell_type": "code",
      "source": [
        "# Percentiles are a measure used in statistics to indicate the relative standing of a particular value within a dataset.\n",
        "\n",
        "data = np.array([1, 2, 3, 4, 5, 6, 7, 8, 9, 10])\n",
        "\n",
        "# Compute the 25th and 75th percentiles\n",
        "percentile_25 = np.percentile(data, 25)\n",
        "percentile_75 = np.percentile(data, 75)\n",
        "\n",
        "print(\"25th percentile:\", percentile_25)\n",
        "print(\"75th percentile:\", percentile_75)\n",
        "\n",
        "#This means that 25% of the values in the dataset are less than or equal to 3.25, and 75% of the values are less than or equal to 7.75."
      ],
      "metadata": {
        "colab": {
          "base_uri": "https://localhost:8080/"
        },
        "id": "bknsWYlWjWOn",
        "outputId": "2fa1797e-f4b8-4cbd-bc12-30a51a14d76e"
      },
      "execution_count": null,
      "outputs": [
        {
          "output_type": "stream",
          "name": "stdout",
          "text": [
            "25th percentile: 3.25\n",
            "75th percentile: 7.75\n"
          ]
        }
      ]
    },
    {
      "cell_type": "code",
      "source": [
        "print(np.random.rand())\n",
        "print(\"Random values in a given shape:\")\n",
        "random_array = np.random.rand(3, 2)\n",
        "print(random_array)\n",
        "\n",
        "print(\"Random values from a standard normal distribution:\")\n",
        "random_array = np.random.randn(3, 2)\n",
        "print(random_array)\n",
        "\n",
        "print(\"Random Integers:\")\n",
        "random_integers = np.random.randint(1, 10, size=(3, 4))\n",
        "print(random_integers)\n",
        "\n",
        "print(\"Suffle an array:\")\n",
        "a=np.array([1,2,3,5,4])\n",
        "np.random.shuffle(a)\n",
        "print(a)"
      ],
      "metadata": {
        "colab": {
          "base_uri": "https://localhost:8080/"
        },
        "id": "MCt5F3cfjZFU",
        "outputId": "3fb34e25-4986-41ed-91b0-9929f9be36ea"
      },
      "execution_count": null,
      "outputs": [
        {
          "output_type": "stream",
          "name": "stdout",
          "text": [
            "0.0722930400138615\n",
            "Random values in a given shape:\n",
            "[[0.6575516  0.06063323]\n",
            " [0.80520064 0.2418601 ]\n",
            " [0.58071156 0.9970177 ]]\n",
            "Random values from a standard normal distribution:\n",
            "[[-0.23760689  0.60458516]\n",
            " [-0.27096472  0.42550663]\n",
            " [-0.70025186 -2.1789509 ]]\n",
            "Random Integers:\n",
            "[[1 1 2 2]\n",
            " [4 5 1 9]\n",
            " [9 3 8 6]]\n",
            "Suffle an array:\n",
            "[1 5 2 4 3]\n"
          ]
        }
      ]
    },
    {
      "cell_type": "code",
      "source": [
        "#The numpy.corrcoef() function in Python's NumPy library is used to compute the Pearson correlation coefficient between two or more arrays. The Pearson correlation coefficient is a measure of the linear relationship between two variables. It ranges from -1 to 1, where:\n",
        "\n",
        "#1 indicates a perfect positive linear relationship.\n",
        "#-1 indicates a perfect negative linear relationship.\n",
        "#0 indicates no linear relationship.\n",
        "import numpy as np\n",
        "\n",
        "x = np.array([1, 2, 3, 4, 5])\n",
        "y = np.array([2, 3, 4, 5, 6])\n",
        "\n",
        "# Compute the correlation coefficient\n",
        "correlation_matrix = np.corrcoef(x, y)\n",
        "\n",
        "# The correlation coefficient is in the (0, 1) position of the matrix for two variables\n",
        "correlation_coefficient = correlation_matrix[0, 1]\n",
        "\n",
        "print(\"Correlation Coefficient:\", correlation_coefficient)"
      ],
      "metadata": {
        "colab": {
          "base_uri": "https://localhost:8080/"
        },
        "id": "VMIiEAjUjfUU",
        "outputId": "f02437dd-a539-4922-fd52-d140bca0c0b2"
      },
      "execution_count": null,
      "outputs": [
        {
          "output_type": "stream",
          "name": "stdout",
          "text": [
            "Correlation Coefficient: 0.9999999999999999\n"
          ]
        }
      ]
    },
    {
      "cell_type": "code",
      "source": [
        "arr1 = np.array([True, False, True])\n",
        "arr2 = np.array([False, True, True])\n",
        "\n",
        "# Perform element-wise logical AND\n",
        "result = np.logical_and(arr1, arr2)\n",
        "result1 = np.logical_or(arr1, arr2)\n",
        "result2 = np.logical_not(arr1, arr2)\n",
        "print(result)\n",
        "print(result1)\n",
        "print(result2)"
      ],
      "metadata": {
        "colab": {
          "base_uri": "https://localhost:8080/"
        },
        "id": "G1_SD-O4jkBm",
        "outputId": "44d38b83-74fc-44f5-c217-908206dba1ba"
      },
      "execution_count": null,
      "outputs": [
        {
          "output_type": "stream",
          "name": "stdout",
          "text": [
            "[False False  True]\n",
            "[ True  True  True]\n",
            "[False  True False]\n"
          ]
        }
      ]
    },
    {
      "cell_type": "code",
      "source": [
        "A = np.array([[4, -2],\n",
        "              [1,  1]])\n",
        "\n",
        "# Compute the eigenvalues and eigenvectors\n",
        "eigenvalues, eigenvectors = np.linalg.eig(A)\n",
        "\n",
        "print(\"Matrix:\")\n",
        "print(A)\n",
        "\n",
        "print(\"\\nEigenvalues:\")\n",
        "print(eigenvalues)\n",
        "\n",
        "print(\"\\nEigenvectors:\")\n",
        "print(eigenvectors)"
      ],
      "metadata": {
        "colab": {
          "base_uri": "https://localhost:8080/"
        },
        "id": "LbgquGXhjp2Q",
        "outputId": "ac5a8d24-6ad5-49bd-daa4-a821565554bf"
      },
      "execution_count": null,
      "outputs": [
        {
          "output_type": "stream",
          "name": "stdout",
          "text": [
            "Matrix:\n",
            "[[ 4 -2]\n",
            " [ 1  1]]\n",
            "\n",
            "Eigenvalues:\n",
            "[3. 2.]\n",
            "\n",
            "Eigenvectors:\n",
            "[[0.89442719 0.70710678]\n",
            " [0.4472136  0.70710678]]\n"
          ]
        }
      ]
    },
    {
      "cell_type": "code",
      "source": [
        "arr = np.array([3, 1, 4, 1, 5, 9, 2, 6, 5, 3, 5])\n",
        "\n",
        "# Sort the array\n",
        "sorted_arr = np.sort(arr)\n",
        "\n",
        "print(\"Original array:\", arr)\n",
        "print(\"Sorted array:\", sorted_arr)\n",
        "\n",
        "\n",
        "# Create a 2D array\n",
        "arr_2d = np.array([[3, 1, 4],\n",
        "                   [1, 5, 9],\n",
        "                   [2, 6, 5]])\n",
        "\n",
        "# Sort along the last axis\n",
        "sorted_arr_2d = np.sort(arr_2d, axis=-1)\n",
        "\n",
        "print(\"Original 2D array:\")\n",
        "print(arr_2d)\n",
        "\n",
        "print(\"\\nSorted 2D array along the last axis:\")\n",
        "print(sorted_arr_2d)"
      ],
      "metadata": {
        "colab": {
          "base_uri": "https://localhost:8080/"
        },
        "id": "WRt-kP4hj0m2",
        "outputId": "140ef90c-76b5-4f79-8031-e486cc96448c"
      },
      "execution_count": null,
      "outputs": [
        {
          "output_type": "stream",
          "name": "stdout",
          "text": [
            "Original array: [3 1 4 1 5 9 2 6 5 3 5]\n",
            "Sorted array: [1 1 2 3 3 4 5 5 5 6 9]\n",
            "Original 2D array:\n",
            "[[3 1 4]\n",
            " [1 5 9]\n",
            " [2 6 5]]\n",
            "\n",
            "Sorted 2D array along the last axis:\n",
            "[[1 3 4]\n",
            " [1 5 9]\n",
            " [2 5 6]]\n"
          ]
        }
      ]
    },
    {
      "cell_type": "code",
      "source": [
        "A = np.array([[4, 7],\n",
        "              [2, 6]])\n",
        "\n",
        "# Compute the determinant of the matrix\n",
        "det_A = np.linalg.det(A)\n",
        "\n",
        "print(\"Matrix:\")\n",
        "print(A)\n",
        "\n",
        "print(\"\\nDeterminant:\", det_A)"
      ],
      "metadata": {
        "id": "5snFLM4cj9VH"
      },
      "execution_count": null,
      "outputs": []
    },
    {
      "cell_type": "code",
      "source": [
        "print(np.random.rand())\n",
        "print(\"Random values in a given shape:\")\n",
        "random_array = np.random.rand(3, 2)\n",
        "print(random_array)\n",
        "\n",
        "print(\"Random values from a standard normal distribution:\")\n",
        "random_array = np.random.randn(3, 2)\n",
        "print(random_array)\n",
        "\n",
        "print(\"Random Integers:\")\n",
        "random_integers = np.random.randint(1, 10, size=(3, 4))\n",
        "print(random_integers)\n",
        "\n",
        "print(\"Suffle an array:\")\n",
        "a=np.array([1,2,3,5,4])\n",
        "np.random.shuffle(a)\n",
        "print(a)"
      ],
      "metadata": {
        "colab": {
          "base_uri": "https://localhost:8080/"
        },
        "id": "paFl9ZSOkT4J",
        "outputId": "bbaa28c6-073f-4f7a-e05b-604afe8c672c"
      },
      "execution_count": null,
      "outputs": [
        {
          "metadata": {
            "tags": null
          },
          "name": "stdout",
          "output_type": "stream",
          "text": [
            "0.9204290903060277\n",
            "Random values in a given shape:\n",
            "[[0.86254079 0.24333421]\n",
            " [0.43999305 0.25486672]\n",
            " [0.50146932 0.95759046]]\n",
            "Random values from a standard normal distribution:\n",
            "[[-0.0185308  -0.65600299]\n",
            " [ 1.35115839 -0.22123358]\n",
            " [-0.99237011 -1.33998956]]\n",
            "Random Integers:\n",
            "[[5 7 3 6]\n",
            " [8 3 1 1]\n",
            " [7 4 7 2]]\n",
            "Suffle an array:\n",
            "[5 1 2 4 3]\n"
          ]
        }
      ]
    }
  ]
}